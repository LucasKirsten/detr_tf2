{
 "cells": [
  {
   "cell_type": "code",
   "execution_count": 1,
   "metadata": {},
   "outputs": [],
   "source": [
    "label_folder = r'D:\\Projects\\datasets\\kangaroo\\annots'\n",
    "folder_to_save = r'D:\\Projects\\datasets\\kangaroo\\labels'"
   ]
  },
  {
   "cell_type": "code",
   "execution_count": 2,
   "metadata": {},
   "outputs": [
    {
     "name": "stderr",
     "output_type": "stream",
     "text": [
      "100%|███████████████████████████████████████████████████████████████████████████████| 164/164 [00:00<00:00, 330.44it/s]\n"
     ]
    }
   ],
   "source": [
    "import os\n",
    "import xmltodict\n",
    "from glob import glob\n",
    "from tqdm import tqdm\n",
    "\n",
    "for path in tqdm(glob(os.path.join(label_folder, '*.xml'))):\n",
    "    data = xmltodict.parse(open(path, 'r').read())['annotation']\n",
    "    \n",
    "    size = data['size']\n",
    "    objects = data['object']\n",
    "    \n",
    "    if not isinstance(objects, list):\n",
    "        objects = [objects]\n",
    "        \n",
    "    for obj in objects:\n",
    "        \n",
    "        obj = obj['bndbox']\n",
    "        xmin = float(obj['xmin'])\n",
    "        xmax = float(obj['xmax'])\n",
    "        ymin = float(obj['ymin'])\n",
    "        ymax = float(obj['ymax'])\n",
    "        width  = float(size['width'])\n",
    "        height = float(size['height'])\n",
    "        \n",
    "        x_center = (xmin+xmax)/(2*width)\n",
    "        y_center = (ymin+ymax)/(2*height)\n",
    "        \n",
    "        width  = (xmax-xmin)/width\n",
    "        height = (ymax-ymin)/height\n",
    "        \n",
    "        with open(os.path.join(folder_to_save, data['filename'].replace('.jpg','.txt')), 'a') as file:\n",
    "            file.write('{} {} {} {} {}\\n'.format(0, x_center, y_center, width, height))"
   ]
  },
  {
   "cell_type": "code",
   "execution_count": null,
   "metadata": {},
   "outputs": [],
   "source": []
  }
 ],
 "metadata": {
  "kernelspec": {
   "display_name": "Python 3",
   "language": "python",
   "name": "python3"
  },
  "language_info": {
   "codemirror_mode": {
    "name": "ipython",
    "version": 3
   },
   "file_extension": ".py",
   "mimetype": "text/x-python",
   "name": "python",
   "nbconvert_exporter": "python",
   "pygments_lexer": "ipython3",
   "version": "3.6.10"
  }
 },
 "nbformat": 4,
 "nbformat_minor": 4
}
